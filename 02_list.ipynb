{
  "cells": [
    {
      "cell_type": "markdown",
      "metadata": {
        "id": "view-in-github",
        "colab_type": "text"
      },
      "source": [
        "<a href=\"https://colab.research.google.com/github/Nazianaseer77/Assignment-04/blob/main/02_list.ipynb\" target=\"_parent\"><img src=\"https://colab.research.google.com/assets/colab-badge.svg\" alt=\"Open In Colab\"/></a>"
      ]
    },
    {
      "cell_type": "markdown",
      "metadata": {
        "id": "ZzyKlR0izIsO"
      },
      "source": []
    },
    {
      "cell_type": "markdown",
      "metadata": {
        "id": "oaAwbP4MzLEd"
      },
      "source": [
        "# write a function thats takes a list of numbers and return the sum of those **numbers**"
      ]
    },
    {
      "cell_type": "code",
      "execution_count": null,
      "metadata": {
        "colab": {
          "base_uri": "https://localhost:8080/"
        },
        "id": "UvTk151ev3K8",
        "outputId": "ad910b58-dda3-4406-e9ae-116aab48da1d"
      },
      "outputs": [
        {
          "name": "stdout",
          "output_type": "stream",
          "text": [
            "01_add_many_numbers\n",
            "36\n"
          ]
        }
      ],
      "source": [
        "print(\"01_add_many_numbers\")\n",
        "\n",
        "def add_numbers(numbers)->int:\n",
        "  num:int = 0\n",
        "  for n in numbers:\n",
        "    num += n\n",
        "  return num\n",
        "\n",
        "def main():\n",
        "    numbers:list [int] = [1,2,3,4,5,6,7,8]\n",
        "    sum:int = add_numbers (numbers)\n",
        "    print(sum)\n",
        "\n",
        "if __name__==\"__main__\":\n",
        "      main()\n",
        "\n"
      ]
    },
    {
      "cell_type": "markdown",
      "metadata": {
        "id": "WtKKeNSXzxhL"
      },
      "source": [
        "# write a programe that doubles each element in a list of numbers. For example, if you start with this list."
      ]
    },
    {
      "cell_type": "code",
      "execution_count": null,
      "metadata": {
        "colab": {
          "base_uri": "https://localhost:8080/"
        },
        "id": "dPHV4UHr0Wt6",
        "outputId": "e81ce251-fa0c-4a85-bf83-2ed30b4be494"
      },
      "outputs": [
        {
          "name": "stdout",
          "output_type": "stream",
          "text": [
            "02_double_list\n",
            "[2, 4, 6, 8, 10, 12, 14]\n"
          ]
        }
      ],
      "source": [
        "print(\"02_double_list\")\n",
        "\n",
        "def main():\n",
        "  numbers:list[int] = [1,2,3,4,5,6,7]\n",
        "  for i in range(len(numbers)):\n",
        "   index = numbers [i]\n",
        "   numbers[i] = index * 2\n",
        "  print(numbers)\n",
        "\n",
        "if __name__==\"__main__\":\n",
        "    main()\n"
      ]
    },
    {
      "cell_type": "code",
      "execution_count": null,
      "metadata": {
        "colab": {
          "base_uri": "https://localhost:8080/"
        },
        "id": "1X-7mbOxvum5",
        "outputId": "47348278-d644-4708-bdd7-15efc319d3c5"
      },
      "outputs": [
        {
          "name": "stdout",
          "output_type": "stream",
          "text": [
            "04_following_with_data_structure\n",
            "Enter amessage to copy: welcome to my world\n",
            "list before: []\n",
            "list after: ['welcome to my world', 'welcome to my world', 'welcome to my world']\n"
          ]
        }
      ],
      "source": [
        "print(\"04_following_with_data_structure\")\n",
        "\n",
        "def add_copies(my_list,data):\n",
        "  for i in range(3):\n",
        "    my_list.append(data)\n",
        "\n",
        "def main():\n",
        "  message=input(\"Enter amessage to copy: \")\n",
        "  my_list = []\n",
        "  print(\"list before:\" , my_list)\n",
        "  add_copies(my_list,message)\n",
        "  print(\"list after:\",my_list)\n",
        "\n",
        "if __name__==\"__main__\":\n",
        "    main()\n",
        "\n"
      ]
    },
    {
      "cell_type": "markdown",
      "metadata": {
        "id": "SYYdmh7n6-AG"
      },
      "source": [
        "# Fill out the function get_first_element(lst) which takes in a list lst as a parameter and prints the first element in the list. The list is guaranteed to be non-empty. We've written some code for you which prompts the user to input the list one element at a time."
      ]
    },
    {
      "cell_type": "code",
      "execution_count": null,
      "metadata": {
        "colab": {
          "base_uri": "https://localhost:8080/"
        },
        "id": "Y3An9Lyb7DiN",
        "outputId": "593c9d30-be55-4ff4-e712-0bea9cda5d40"
      },
      "outputs": [
        {
          "name": "stdout",
          "output_type": "stream",
          "text": [
            "05_get_first_element\n",
            "Enter an element to add the list: 30\n",
            "30\n"
          ]
        }
      ],
      "source": [
        "print(\"05_get_first_element\")\n",
        "\n",
        "def get_first_element(lst):\n",
        "  print(lst[0])\n",
        "\n",
        "\n",
        "\n",
        "def get_lst():\n",
        "    lst = []\n",
        "    element:str = input(\"Enter an element to add the list: \")\n",
        "    while element != \"\":\n",
        "      lst.append(element)\n",
        "      return lst\n",
        "\n",
        "def main():\n",
        "        lst = get_lst()\n",
        "        get_first_element(lst)\n",
        "\n",
        "\n",
        "if __name__==\"__main__\":\n",
        "        main()\n"
      ]
    },
    {
      "cell_type": "markdown",
      "metadata": {
        "id": "EkkPum9-_RY-"
      },
      "source": [
        "# Fill out the function get_last_element(lst) which takes in a list lst as a parameter and prints the last element in the list. The list is guaranteed to be non-empty, but there are no guarantees on its length."
      ]
    },
    {
      "cell_type": "code",
      "execution_count": null,
      "metadata": {
        "colab": {
          "base_uri": "https://localhost:8080/"
        },
        "id": "klMMLYAd_fo9",
        "outputId": "f26821c1-1dbf-4355-f210-c4d48c4a354e"
      },
      "outputs": [
        {
          "name": "stdout",
          "output_type": "stream",
          "text": [
            "06_get_last_element\n",
            "7\n"
          ]
        }
      ],
      "source": [
        "print(\"06_get_last_element\")\n",
        "\n",
        "def _get_last_element(lst):\n",
        "  print(lst[-1])\n",
        "\n",
        "def main():\n",
        "    lst = [1,2,3,4,5,6,7]\n",
        "    _get_last_element(lst)\n",
        "\n",
        "if __name__==\"__main__\":\n",
        "      main()\n"
      ]
    },
    {
      "cell_type": "markdown",
      "metadata": {
        "id": "4XO4Qdi0A0Ez"
      },
      "source": [
        "# Get **list**"
      ]
    },
    {
      "cell_type": "code",
      "execution_count": null,
      "metadata": {
        "colab": {
          "background_save": true,
          "base_uri": "https://localhost:8080/"
        },
        "id": "UbFAiIJQA5Ub",
        "outputId": "e5d0b690-cfc5-4ec4-f749-ab18792ba9c3"
      },
      "outputs": [
        {
          "name": "stdout",
          "output_type": "stream",
          "text": [
            "07_get_list\n",
            "Here is the list ['15']\n",
            "Here is the list ['15', '20']\n"
          ]
        }
      ],
      "source": [
        "print(\"07_get_list\")\n",
        "\n",
        "def main():\n",
        "  lst = []\n",
        "  val = input(\"Enter a value to add in the list:\")\n",
        "  while val:\n",
        "    lst.append(val)\n",
        "    val=input(\"enter a value to add in the list:\")\n",
        "    print(\"Here is the list\", lst)\n",
        "\n",
        "if __name__==\"__main__\":\n",
        "      main()\n"
      ]
    },
    {
      "cell_type": "markdown",
      "metadata": {
        "id": "K71YNXzrDPcm"
      },
      "source": [
        "Fill out the function shorten(lst) which removes elements from the end of lst, which is a list, and prints each item it removes until lst is MAX_LENGTH items long. If lst is already shorter than MAX_LENGTH you should leave it unchanged. We've written a main() function for you which gets a list and passes it into your function once you run the program. For the autograder to pass you will need MAX_LENGTH to be 3, but feel free to change it around to test your program.\n",
        "\n"
      ]
    },
    {
      "cell_type": "code",
      "execution_count": 1,
      "metadata": {
        "id": "0BocLPskDVse",
        "colab": {
          "base_uri": "https://localhost:8080/"
        },
        "outputId": "86f58d85-748d-408d-9cce-1aa71fdabe4f"
      },
      "outputs": [
        {
          "name": "stdout",
          "output_type": "stream",
          "text": [
            "08_shorten\n",
            "Enter an element to add in the list: Nazia\n",
            "Enter an element to add in the list: Naseer\n",
            "Enter an element to add in the list: \n"
          ]
        }
      ],
      "source": [
        "print(\"08_shorten\")\n",
        "\n",
        "MAX_LENGTH:int = 3\n",
        "def shorten(lst):\n",
        "  while len(lst) > MAX_LENGTH:\n",
        "    last_element = lst.pop()\n",
        "    print(last_element)\n",
        "\n",
        "def get_lst():\n",
        "      lst = []\n",
        "      element = input(\"Enter an element to add in the list: \")\n",
        "      while element != \"\":\n",
        "        lst.append(element)\n",
        "        element = input(\"Enter an element to add in the list: \")\n",
        "      return lst\n",
        "def main():\n",
        "       lst = get_lst()\n",
        "       shorten(lst)\n",
        "\n",
        "if __name__==\"__main__\":\n",
        "        main()"
      ]
    }
  ],
  "metadata": {
    "colab": {
      "provenance": [],
      "authorship_tag": "ABX9TyNBB9QHCGrUAtWnqOh8czSj",
      "include_colab_link": true
    },
    "kernelspec": {
      "display_name": "Python 3",
      "name": "python3"
    },
    "language_info": {
      "name": "python"
    }
  },
  "nbformat": 4,
  "nbformat_minor": 0
}