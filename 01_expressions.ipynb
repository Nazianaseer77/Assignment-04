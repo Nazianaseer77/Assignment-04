{
  "nbformat": 4,
  "nbformat_minor": 0,
  "metadata": {
    "colab": {
      "provenance": [],
      "authorship_tag": "ABX9TyMsqteVyHNAyqD0YPrO+ySp",
      "include_colab_link": true
    },
    "kernelspec": {
      "name": "python3",
      "display_name": "Python 3"
    },
    "language_info": {
      "name": "python"
    }
  },
  "cells": [
    {
      "cell_type": "markdown",
      "metadata": {
        "id": "view-in-github",
        "colab_type": "text"
      },
      "source": [
        "<a href=\"https://colab.research.google.com/github/Nazianaseer77/Assignment-04/blob/main/01_expressions.ipynb\" target=\"_parent\"><img src=\"https://colab.research.google.com/assets/colab-badge.svg\" alt=\"Open In Colab\"/></a>"
      ]
    },
    {
      "cell_type": "code",
      "execution_count": 3,
      "metadata": {
        "colab": {
          "base_uri": "https://localhost:8080/"
        },
        "id": "q2XZ0XnVXRr1",
        "outputId": "d5c83839-e962-4f18-8952-96de65026094"
      },
      "outputs": [
        {
          "output_type": "stream",
          "name": "stdout",
          "text": [
            "01_dicesimulator\n",
            "dice1 is main() start as:10\n",
            "Total of two dices: 7\n",
            "Total of two dices: 11\n",
            "Total of two dices: 8\n",
            "dice1 is main() is:10\n"
          ]
        }
      ],
      "source": [
        "import random\n",
        "print(\"01_dicesimulator\")\n",
        "\n",
        "def roll_dice():\n",
        "  dice1:int = random.randint(1,6)\n",
        "  dice2:int = random.randint(1,6)\n",
        "  total:int = dice1 + dice2\n",
        "  print(f'Total of two dices: {total}')\n",
        "\n",
        "def main():\n",
        "  dice1: int = 10\n",
        "  print(\"dice1 is main() start as:\" + str(dice1))\n",
        "  roll_dice()\n",
        "  roll_dice()\n",
        "  roll_dice()\n",
        "  print(\"dice1 is main() is:\" + str(dice1))\n",
        "\n",
        "if __name__ ==\"__main__\":\n",
        "    main()"
      ]
    },
    {
      "cell_type": "code",
      "source": [
        "print(\"02_e=mc2\")\n",
        "\n",
        "def energy():\n",
        "  c: float = 299792458\n",
        "  m: float = float(input(\"Enter kilos of mass:\"))\n",
        "  print(\"e = m*c^2\")\n",
        "  print(\"mass = \" + str(m) + \"kg\")\n",
        "  print(\"C = \" + str(c) + \"m/s\")\n",
        "  print(\"e = \" + str(m * c ** 2) + \"jules\")\n",
        "\n",
        "if __name__==\"__main__\":\n",
        "    energy()"
      ],
      "metadata": {
        "colab": {
          "base_uri": "https://localhost:8080/"
        },
        "id": "UlomFMV_b1Cj",
        "outputId": "df99e57f-a3c3-4fed-94af-ab31ee79a291"
      },
      "execution_count": 5,
      "outputs": [
        {
          "output_type": "stream",
          "name": "stdout",
          "text": [
            "02_e=mc2\n",
            "Enter kilos of mass:30\n",
            "e = m*c^2\n",
            "mass = 30.0kg\n",
            "C = 299792458m/s\n",
            "e = 2.696265536210453e+18jules\n"
          ]
        }
      ]
    },
    {
      "cell_type": "markdown",
      "source": [
        "# convert feet to **inches**"
      ],
      "metadata": {
        "id": "YitJRCWMe_ks"
      }
    },
    {
      "cell_type": "code",
      "source": [
        "print(\"03_feet_to_inches\")\n",
        "\n",
        "inch: int = 12\n",
        "\n",
        "def foot():\n",
        "  feet: int = int(input(\"Enter feet and i will convert into inches.\"))\n",
        "  print(f'There are {inch * feet} inches in {feet} feet.')\n",
        "\n",
        "if __name__==\"__main__\":\n",
        "    foot()"
      ],
      "metadata": {
        "colab": {
          "base_uri": "https://localhost:8080/"
        },
        "id": "zPd7aeJjfHSE",
        "outputId": "93178348-3d8b-4d72-e9ae-9505cc3f504c"
      },
      "execution_count": 6,
      "outputs": [
        {
          "output_type": "stream",
          "name": "stdout",
          "text": [
            "03_feet_to_inches\n",
            "Enter feet and i will convert into inches.6\n",
            "There are 72 inches in 6 feet.\n"
          ]
        }
      ]
    },
    {
      "cell_type": "markdown",
      "source": [
        "# pythagorean **theorem**"
      ],
      "metadata": {
        "id": "k-aroxxwhMlA"
      }
    },
    {
      "cell_type": "code",
      "source": [
        "import math\n",
        "print(\"04_pythagorean_theorem\")\n",
        "\n",
        "def triangle():\n",
        "  AB: float = float(input(\"Enter the length of side AB.\"))\n",
        "  AC: float = float(input(\"Enter the length of side AC.\"))\n",
        "  BC: float = math.sqrt(AB ** 2 + AC ** 2)\n",
        "  print(f'The length of Bc(the hypothenuse is : {BC})')\n",
        "\n",
        "if __name__==\"__main__\":\n",
        "    triangle()"
      ],
      "metadata": {
        "colab": {
          "base_uri": "https://localhost:8080/"
        },
        "id": "LaUTGSHGhXA_",
        "outputId": "901ae1dc-706f-4d56-ca4c-86b3416c9e47"
      },
      "execution_count": 7,
      "outputs": [
        {
          "output_type": "stream",
          "name": "stdout",
          "text": [
            "04_pythagorean_theorem\n",
            "Enter the length of side AB.30\n",
            "Enter the length of side AC.20\n",
            "The length of Bc(the hypothenuse is : 36.05551275463989)\n"
          ]
        }
      ]
    },
    {
      "cell_type": "markdown",
      "source": [
        "# Remainder **division**"
      ],
      "metadata": {
        "id": "mFJD87pUl8lW"
      }
    },
    {
      "cell_type": "code",
      "source": [
        "print(\"05_remainder_division\")\n",
        "\n",
        "def remainder():\n",
        "  num1: int = int(input(\"Enter an integer to be divided:\"))\n",
        "  num2: int = int(input(\"enter an integer to divide by:\"))\n",
        "  quotient: int = num1 // num2\n",
        "  remainder: int = num1 % num2\n",
        "  print(f'The result of following division is {quotient} with the remainder of {remainder}')\n",
        "\n",
        "if __name__==\"__main__\":\n",
        "    remainder()"
      ],
      "metadata": {
        "colab": {
          "base_uri": "https://localhost:8080/"
        },
        "id": "Ozx8KGvzmDld",
        "outputId": "d9378763-6e25-46ee-b8ea-edabbc1cb20d"
      },
      "execution_count": 8,
      "outputs": [
        {
          "output_type": "stream",
          "name": "stdout",
          "text": [
            "05_remainder_division\n",
            "Enter an integer to be divided:9\n",
            "enter an integer to divide by:6\n",
            "The result of following division is 1 with the remainder of 3\n"
          ]
        }
      ]
    },
    {
      "cell_type": "markdown",
      "source": [
        "# Rolling two **dice**"
      ],
      "metadata": {
        "id": "WqboO4TGomyw"
      }
    },
    {
      "cell_type": "code",
      "source": [
        "import random\n",
        "print(\"06_rolldice.\")\n",
        "\n",
        "def dice():\n",
        "  dice1: int = random.randint(1,6)\n",
        "  dice2: int = random.randint(1,6)\n",
        "  total: int = int(dice1 + dice2)\n",
        "  print(\"First dice:\" + str(dice1))\n",
        "  print(\"Second dice:\" + str(dice2))\n",
        "  print(f'total of two dice: {total}')\n",
        "\n",
        "if __name__==\"__main__\":\n",
        "    dice()"
      ],
      "metadata": {
        "colab": {
          "base_uri": "https://localhost:8080/"
        },
        "id": "aRIOokSCotD3",
        "outputId": "b9c7a27d-49ad-4924-c8d8-ba49b2d6ec46"
      },
      "execution_count": 9,
      "outputs": [
        {
          "output_type": "stream",
          "name": "stdout",
          "text": [
            "06_rolldice.\n",
            "First dice:4\n",
            "Second dice:5\n",
            "total of two dice: 9\n"
          ]
        }
      ]
    },
    {
      "cell_type": "markdown",
      "source": [
        "# Seconds in a **year**"
      ],
      "metadata": {
        "id": "7WGkVbtLtWZt"
      }
    },
    {
      "cell_type": "code",
      "source": [
        "print(\"06_seconds_in_year\")\n",
        "\n",
        "days_in_year: int = 365\n",
        "hours_per_day: int = 24\n",
        "minutes_per_hour: int = 60\n",
        "seconds_per_minute: int = 60\n",
        "\n",
        "def seconds():\n",
        " print(f'There are {days_in_year * hours_per_day * minutes_per_hour * seconds_per_minute} seconds in a year.')\n",
        "\n",
        "if __name__==\"__main__\":\n",
        "  seconds()\n",
        "\n"
      ],
      "metadata": {
        "colab": {
          "base_uri": "https://localhost:8080/"
        },
        "id": "UOnml-klthjc",
        "outputId": "04ee3de7-5750-43a1-b72e-aed7a043a339"
      },
      "execution_count": 11,
      "outputs": [
        {
          "output_type": "stream",
          "name": "stdout",
          "text": [
            "06_seconds_in_year\n",
            "There are 31536000 seconds in a year.\n"
          ]
        }
      ]
    },
    {
      "cell_type": "markdown",
      "source": [
        "# Tiny mad **lib**"
      ],
      "metadata": {
        "id": "68WKMCA1wZSe"
      }
    },
    {
      "cell_type": "code",
      "source": [
        "print(\"tiny_mad_lib\")\n",
        "\n",
        "def mad_lib():\n",
        "  noun: str = str (input(\"Enter a noun:\"))\n",
        "  adjective: str = str (input(\"Enter a adjective:\"))\n",
        "  verb: str = str (input(\"Enter a verb:\"))\n",
        "  print(f'Do you {verb} your {adjective} {noun} ?')\n",
        "\n",
        "if __name__==\"__main__\":\n",
        "    mad_lib()\n"
      ],
      "metadata": {
        "colab": {
          "base_uri": "https://localhost:8080/"
        },
        "id": "vwcpdx3DwdYN",
        "outputId": "b869a3fa-eb4c-4bd9-e30f-3caa031caed0"
      },
      "execution_count": null,
      "outputs": [
        {
          "output_type": "stream",
          "name": "stdout",
          "text": [
            "tiny_mad_lib\n"
          ]
        }
      ]
    }
  ]
}