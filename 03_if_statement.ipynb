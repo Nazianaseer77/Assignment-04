{
  "nbformat": 4,
  "nbformat_minor": 0,
  "metadata": {
    "colab": {
      "provenance": [],
      "authorship_tag": "ABX9TyP2ON518w07y0yT0ulEO1lu",
      "include_colab_link": true
    },
    "kernelspec": {
      "name": "python3",
      "display_name": "Python 3"
    },
    "language_info": {
      "name": "python"
    }
  },
  "cells": [
    {
      "cell_type": "markdown",
      "metadata": {
        "id": "view-in-github",
        "colab_type": "text"
      },
      "source": [
        "<a href=\"https://colab.research.google.com/github/Nazianaseer77/Assignment-04/blob/main/03_if_statement.ipynb\" target=\"_parent\"><img src=\"https://colab.research.google.com/assets/colab-badge.svg\" alt=\"Open In Colab\"/></a>"
      ]
    },
    {
      "cell_type": "markdown",
      "source": [
        "# Write a program that prints the first 20 even numbers. There are several correct approaches, but they all use a loop of some sort. Do no write twenty print **statements**"
      ],
      "metadata": {
        "id": "1Ft_GLElI5Sx"
      }
    },
    {
      "cell_type": "code",
      "source": [
        "print(\"01_print_events\")\n",
        "\n",
        "def even():\n",
        "  for i in range(30):\n",
        "    even = i*2\n",
        "    print(even)\n",
        "\n",
        "    #print(\"here is 20 even numbers are :\", i * 2 )\n",
        "if __name__==\"__main__\":\n",
        "      even()"
      ],
      "metadata": {
        "id": "eEKrAdZzI9UK",
        "colab": {
          "base_uri": "https://localhost:8080/"
        },
        "outputId": "29d109a2-9d27-4aab-f65b-65267f02f8be"
      },
      "execution_count": null,
      "outputs": [
        {
          "output_type": "stream",
          "name": "stdout",
          "text": [
            "01_print_events\n",
            "0\n",
            "2\n",
            "4\n",
            "6\n",
            "8\n",
            "10\n",
            "12\n",
            "14\n",
            "16\n",
            "18\n",
            "20\n",
            "22\n",
            "24\n",
            "26\n",
            "28\n",
            "30\n",
            "32\n",
            "34\n",
            "36\n",
            "38\n",
            "40\n",
            "42\n",
            "44\n",
            "46\n",
            "48\n",
            "50\n",
            "52\n",
            "54\n",
            "56\n",
            "58\n"
          ]
        }
      ]
    },
    {
      "cell_type": "markdown",
      "source": [
        "Write a program which asks a user for their age and lets them know if they can or can't vote in the following three fictional countries.\n",
        "### Around the world, different countries have different voting ages."
      ],
      "metadata": {
        "id": "rXO4pTU0ZBcc"
      }
    },
    {
      "cell_type": "code",
      "source": [
        "print(\"02_I(nternational_voting_age\")\n",
        "\n",
        "peturksbouipo: int = 16\n",
        "stanlau: int = 25\n",
        "Mayengua: int = 48\n",
        "age: int = int(input(\"How old are you?\"))\n",
        "\n",
        "def main():\n",
        " if age >= peturksbouipo:\n",
        "    print(f\"your age is {age}. you are eligible to vote in peturksbouipo! \")\n",
        " else:\n",
        "    print(f\"your age is {age}, you are not eligible to vote in peturksbouipo!\")\n",
        "\n",
        "\n",
        "if age >= stanlau:\n",
        "      print(f\"your age is {age}, you are eligible to vote in stanlau!\")\n",
        "else:\n",
        "    print(f\"your age is {age}, you are not eligible to vote in stanlau!\")\n",
        "\n",
        "\n",
        "if age >= Mayengua:\n",
        "      print(f\"your age is {age}, you are eligible to vote in Mayengua!\")\n",
        "else:\n",
        "      print(f\"your age is {age}, you are not eligible to vote in Mayengua1\")\n",
        "\n",
        "      if __name__==\"__main__\":\n",
        "        main()\n",
        "\n",
        "\n",
        "\n"
      ],
      "metadata": {
        "colab": {
          "base_uri": "https://localhost:8080/"
        },
        "id": "W0GkI6b3ZPWj",
        "outputId": "77ce9644-a78e-44ab-c784-e9d58bbf27cb"
      },
      "execution_count": null,
      "outputs": [
        {
          "output_type": "stream",
          "name": "stdout",
          "text": [
            "02_I(nternational_voting_age\n",
            "How old are you?16\n",
            "your age is 16, you are not eligible to vote in stanlau!\n",
            "your age is 16, you are not eligible to vote in Mayengua1\n",
            "your age is 16. you are eligible to vote in peturksbouipo! \n"
          ]
        }
      ]
    },
    {
      "cell_type": "markdown",
      "source": [
        "# Write a program that reads a year from the user and tells whether a given year is a leap year or not."
      ],
      "metadata": {
        "id": "GE-zKu3Rivvt"
      }
    },
    {
      "cell_type": "code",
      "source": [
        "print(\"03_leap_year\")\n",
        "\n",
        "def leap_year():\n",
        "  year:int = int(input(\"Enter as year\"))\n",
        "\n",
        "  if year % 4 == 0:\n",
        "    if year % 100 == 0:\n",
        "      if year % 400 == 0:\n",
        "        print(f\"{year} is a leap year.\")\n",
        "      else:\n",
        "          print(f\"{year} is not a leap year.\")\n",
        "    else:\n",
        "        print(f\"{year} is not a leap year.\")\n",
        "  else:\n",
        "    print(f\"{year} is not a leap year.\")\n",
        "\n",
        "if __name__==\"__main__\":\n",
        "      leap_year()"
      ],
      "metadata": {
        "colab": {
          "base_uri": "https://localhost:8080/"
        },
        "id": "S6bl5I8JewHv",
        "outputId": "c5bc360f-b6ff-4048-a93a-2f619f6811d1"
      },
      "execution_count": null,
      "outputs": [
        {
          "output_type": "stream",
          "name": "stdout",
          "text": [
            "03_leap_year\n",
            "Enter as year2024\n",
            "2024 is not a leap year.\n"
          ]
        }
      ]
    },
    {
      "cell_type": "markdown",
      "source": [
        "# Write a program which asks the user how tall they are and prints whether or not they're taller than a pre-specified minimum height."
      ],
      "metadata": {
        "id": "0pxNzEPWjDFz"
      }
    },
    {
      "cell_type": "code",
      "source": [
        "print(\"04_tall_enough_to_ride\")\n",
        "\n",
        "min_height:int = 50\n",
        "\n",
        "def main():\n",
        "  user: int =int(input(\"How tall are you\"))\n",
        "  if user >= min_height:\n",
        "    print(\"You are tall enough to ride\")\n",
        "  else:\n",
        "      print(\"you are not tall enough to ride, maybe next year.\")\n",
        "\n",
        "if __name__==\"__main__\":\n",
        "        main()"
      ],
      "metadata": {
        "colab": {
          "base_uri": "https://localhost:8080/"
        },
        "id": "BQ1wFLoojHUT",
        "outputId": "7cbbb556-adc2-4ede-c11b-f10efbcdf142"
      },
      "execution_count": null,
      "outputs": [
        {
          "output_type": "stream",
          "name": "stdout",
          "text": [
            "04_tall_enough_to_ride\n",
            "How tall are you35\n",
            "you are not tall enough to ride, maybe next year.\n"
          ]
        }
      ]
    },
    {
      "cell_type": "markdown",
      "source": [
        "Print 10 random numbers in the range 1 to 100.\n",
        "\n",
        "Here is an example run:\n",
        "\n",
        "# 45 79 61 47 52 10 16 83 19 **12**"
      ],
      "metadata": {
        "id": "DwqODHA1xOdS"
      }
    },
    {
      "cell_type": "code",
      "source": [
        "print(\"05_random_numbers\")\n",
        "\n",
        "import random\n",
        "\n",
        "def main():\n",
        "  for i in range (10):\n",
        "    num: list[int] = random.randint(1,100)\n",
        "    print(num)\n",
        "\n",
        "if __name__==\"__main__\":\n",
        "      main()\n",
        "\n"
      ],
      "metadata": {
        "colab": {
          "base_uri": "https://localhost:8080/"
        },
        "id": "6CfuRHUGxZHR",
        "outputId": "81ea3d80-7704-4982-ae0a-abe16900ee68"
      },
      "execution_count": null,
      "outputs": [
        {
          "output_type": "stream",
          "name": "stdout",
          "text": [
            "05_random_numbers\n",
            "32\n",
            "45\n",
            "30\n",
            "71\n",
            "3\n",
            "97\n",
            "100\n",
            "70\n",
            "4\n",
            "61\n"
          ]
        }
      ]
    }
  ]
}