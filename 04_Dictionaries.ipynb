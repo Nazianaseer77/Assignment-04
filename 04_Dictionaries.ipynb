{
  "nbformat": 4,
  "nbformat_minor": 0,
  "metadata": {
    "colab": {
      "provenance": [],
      "authorship_tag": "ABX9TyMz364RJt0imr/jlQOE+E4z",
      "include_colab_link": true
    },
    "kernelspec": {
      "name": "python3",
      "display_name": "Python 3"
    },
    "language_info": {
      "name": "python"
    }
  },
  "cells": [
    {
      "cell_type": "markdown",
      "metadata": {
        "id": "view-in-github",
        "colab_type": "text"
      },
      "source": [
        "<a href=\"https://colab.research.google.com/github/Nazianaseer77/Assignment-04/blob/main/04_Dictionaries.ipynb\" target=\"_parent\"><img src=\"https://colab.research.google.com/assets/colab-badge.svg\" alt=\"Open In Colab\"/></a>"
      ]
    },
    {
      "cell_type": "markdown",
      "source": [
        "# This program counts the number of times each number appears in a list. It uses a dictionary to keep track of the information."
      ],
      "metadata": {
        "id": "bYy51QeuMvzC"
      }
    },
    {
      "cell_type": "code",
      "source": [
        "print(\"00_count_num\")\n",
        "\n",
        "def count_numbers():\n",
        "  count_dict = {}\n",
        "\n",
        "  while True:\n",
        "      num = input (\"Enter a number (or 'Exit' to quit):\")\n",
        "\n",
        "      if num.lower() == 'Exit':\n",
        "       break\n",
        "      if num.isdigit():\n",
        "       num = int(num)\n",
        "       count_dict[num] = count_dict.get (num,0) + 1\n",
        "       print(count_dict)\n",
        "\n",
        "      else:\n",
        "        print(\"Invalid input, Please enter a number or 'Exit'.\")\n",
        "        return count_dict\n",
        "\n",
        "def display_counts(count_dict):\n",
        "      print(\"\\n numbers counts: \")\n",
        "      for key,value in count_dict.items():\n",
        "            print(f'{key} appear {value} times')\n",
        "\n",
        "if __name__==\"__main__\":\n",
        "              count = count_numbers()\n",
        "              display_counts(count)"
      ],
      "metadata": {
        "colab": {
          "base_uri": "https://localhost:8080/"
        },
        "id": "i6Df5Y8zM3jY",
        "outputId": "97a2c293-96ac-4251-c50b-bb3ea8125bd1"
      },
      "execution_count": null,
      "outputs": [
        {
          "output_type": "stream",
          "name": "stdout",
          "text": [
            "00_count_num\n",
            "Enter a number (or 'Exit' to quit):4\n",
            "{4: 1}\n",
            "Enter a number (or 'Exit' to quit):9\n",
            "{4: 1, 9: 1}\n",
            "Enter a number (or 'Exit' to quit):3\n",
            "{4: 1, 9: 1, 3: 1}\n",
            "Enter a number (or 'Exit' to quit):5\n",
            "{4: 1, 9: 1, 3: 1, 5: 1}\n",
            "Enter a number (or 'Exit' to quit):7\n",
            "{4: 1, 9: 1, 3: 1, 5: 1, 7: 1}\n",
            "Enter a number (or 'Exit' to quit):3\n",
            "{4: 1, 9: 1, 3: 2, 5: 1, 7: 1}\n",
            "Enter a number (or 'Exit' to quit):9\n",
            "{4: 1, 9: 2, 3: 2, 5: 1, 7: 1}\n",
            "Enter a number (or 'Exit' to quit):4\n",
            "{4: 2, 9: 2, 3: 2, 5: 1, 7: 1}\n",
            "Enter a number (or 'Exit' to quit):\n",
            "Invalid input, Please enter a number or 'Exit'.\n",
            "\n",
            " numbers counts: \n",
            "4 appear 2 times\n",
            "9 appear 2 times\n",
            "3 appear 2 times\n",
            "5 appear 1 times\n",
            "7 appear 1 times\n"
          ]
        }
      ]
    },
    {
      "cell_type": "markdown",
      "source": [
        "# In this program we show an example of using dictionaries to keep track of information in a phonebook."
      ],
      "metadata": {
        "id": "-TxaMO73V8kg"
      }
    },
    {
      "cell_type": "code",
      "source": [
        "print(\"01_phonebook\")\n",
        "\n",
        "def add_contact(phonebook):\n",
        "  name = input(\"Enter contact name:\")\n",
        "  number = input(\"Enter contact number:\")\n",
        "\n",
        "  if name in phonebook:\n",
        "    print(f'{name} already exists in the phonebook.')\n",
        "\n",
        "  else:\n",
        "    phonebook[name] = number\n",
        "    print(f'{name} added to the phonebook.')\n",
        "\n",
        "def search_contact(phonebook):\n",
        "  name = input(\"Enter contact name to search:\")\n",
        "\n",
        "  if name in phonebook:\n",
        "    print(f'{name}:{phonebook[name]}')\n",
        "  else:\n",
        "    print(f'{name} not found in the phonebook:')\n",
        "\n",
        "def delete_contact(phonebook):\n",
        "  name = input(\"Enter contact name to delete:\")\n",
        "  if name in phonebook:\n",
        "    del phonebook [name]\n",
        "\n",
        "    print(f'{name} delete from the phonebook:')\n",
        "  else:\n",
        "    print(f'{name} not found in phonebook.')\n",
        "\n",
        "def display_contacts(phonebook):\n",
        "  if phonebook:\n",
        "    print(\"\\n phonebook contact list\")\n",
        "\n",
        "    for name,number in phonebook.items():\n",
        "      print(f'{name} : {number}')\n",
        "  else:\n",
        "        print(\"phonebook is empty.\")\n",
        "\n",
        "if __name__==\"__main__\":\n",
        "    phonebook = {}\n",
        "\n",
        "    while True:\n",
        "      print(\"\\n phonebook menu:\")\n",
        "      print(\"1. Add contact:\")\n",
        "      print(\"2. search contact:\")\n",
        "      print(\"3. Delete contact:\")\n",
        "      print(\"4. Display contacts:\")\n",
        "      print(\"5. Exit\")\n",
        "\n",
        "      choice = input(\"Enter your choice(1-5):\")\\\n",
        "\n",
        "      if choice == '1':\n",
        "              add_contact(phonebook)\n",
        "      elif choice == '2':\n",
        "              search_contact(phonebook)\n",
        "      elif choice == '3':\n",
        "              delete_contact(phonebook)\n",
        "      elif choice == '4':\n",
        "              display_contacts(phonebook)\n",
        "      elif choice == '5':\n",
        "              print(\"Exiting phonebook. Goodbye!\")\n",
        "              break\n",
        "      else:\n",
        "              print(\"Invalid choice. please enter a number 1 to 5. \")\n",
        "\n"
      ],
      "metadata": {
        "colab": {
          "base_uri": "https://localhost:8080/"
        },
        "id": "tAHTiq6wWAkn",
        "outputId": "1d821811-c3d0-48aa-ec80-d52fc03710a2"
      },
      "execution_count": null,
      "outputs": [
        {
          "metadata": {
            "tags": null
          },
          "name": "stdout",
          "output_type": "stream",
          "text": [
            "01_phonebook\n",
            "\n",
            " phonebook menu:\n",
            "1. Add contact:\n",
            "2. search contact:\n",
            "3. Delete contact:\n",
            "4. Display contacts:\n",
            "5. Exit\n",
            "Ayan added to the phonebook.\n",
            "\n",
            " phonebook menu:\n",
            "1. Add contact:\n",
            "2. search contact:\n",
            "3. Delete contact:\n",
            "4. Display contacts:\n",
            "5. Exit\n"
          ]
        }
      ]
    },
    {
      "cell_type": "markdown",
      "source": [
        "# Write a program that loops through a dictionary of fruits, prompting the user to see how many of each fruit they want to buy, and then prints out the total combined cost of all of the fruits."
      ],
      "metadata": {
        "id": "n0X-2GJJJ0uL"
      }
    },
    {
      "cell_type": "code",
      "source": [
        "print(\"02_pop_up_shop\")\n",
        "\n",
        "def calculate_total_cost():\n",
        "  fruits_price = {\n",
        "      \"apple\": 8.0,\n",
        "      \"banana\": 7.0,\n",
        "      \"mango\": 9.0,\n",
        "      \"kiwi\":10.0,\n",
        "      \"pear\":9.0,\n",
        "      \"orange\":6.0\n",
        "  }\n",
        "\n",
        "  total_cost = 0\n",
        "\n",
        "  for fruit,price in fruits_price.items():\n",
        "    while True:\n",
        "      try:\n",
        "        quantity=int(input(f'how many {fruit} do you want?:'))\n",
        "        if quantity < 0:\n",
        "          print(\"Invalid input, please enter a non negative number.\")\n",
        "          continue\n",
        "        total_cost += price * quantity\n",
        "        break\n",
        "      except ValueError:\n",
        "        print(\"Invalid input, please enter a valid number.\")\n",
        "\n",
        "    print(f'\\n your total cost is: ${total_cost:.2f}')\n",
        "\n",
        "if __name__==\"__main__\":\n",
        "      calculate_total_cost()"
      ],
      "metadata": {
        "colab": {
          "base_uri": "https://localhost:8080/"
        },
        "id": "EPVqFV-2J5PD",
        "outputId": "04222fc8-77a2-4934-c999-67e74c73bc31"
      },
      "execution_count": 6,
      "outputs": [
        {
          "output_type": "stream",
          "name": "stdout",
          "text": [
            "02_pop_up_shop\n",
            "how many apple do you want?:8\n",
            "\n",
            " your total cost is: $64.00\n",
            "how many banana do you want?:12\n",
            "\n",
            " your total cost is: $148.00\n",
            "how many mango do you want?:6\n",
            "\n",
            " your total cost is: $202.00\n",
            "how many kiwi do you want?:4\n",
            "\n",
            " your total cost is: $242.00\n",
            "how many pear do you want?:9\n",
            "\n",
            " your total cost is: $323.00\n",
            "how many orange do you want?:12\n",
            "\n",
            " your total cost is: $395.00\n"
          ]
        }
      ]
    },
    {
      "cell_type": "markdown",
      "source": [
        "# You want to be safe online and use different passwords for different websites. However, you are forgetful at times and want to make a program that can match which password belongs to which website without storing the actual password!\n"
      ],
      "metadata": {
        "id": "e8XgLI4F7eMs"
      }
    },
    {
      "cell_type": "code",
      "source": [
        "import hashlib\n",
        "\n",
        "print(\"03_powerfull_passwords\")\n",
        "\n",
        "def hash_password(password):\n",
        "  return hashlib.sha256(password.encode()).hexdigest()\n",
        "\n",
        "stored_logins = {\n",
        "      \"user@example.com\":hash_password(\"password1234\"),\n",
        "      \"admin@example.com\":hash_password(\"adminpass\")\n",
        "}\n",
        "\n",
        "def login(email,password):\n",
        "  if email in stored_logins:\n",
        "    return stored_logins [email] == hash_password(password)\n",
        "  return False\n",
        "\n",
        "if __name__==\"__main__\":\n",
        "    email = input(\"Enter your email: \")\n",
        "    password = input(\"Enter your password: \")\n",
        "\n",
        "    if login(email,password):\n",
        "     print(\"Login succesfull1\")\n",
        "\n",
        "    else:\n",
        "      print(\"Invalid email or password\")\n",
        "\n",
        "\n",
        ""
      ],
      "metadata": {
        "colab": {
          "base_uri": "https://localhost:8080/"
        },
        "id": "7-bR49tN7kX7",
        "outputId": "2266fdd8-11b0-46d3-8d0b-a44ccfb4e4fd"
      },
      "execution_count": 9,
      "outputs": [
        {
          "output_type": "stream",
          "name": "stdout",
          "text": [
            "03_powerfull_passwords\n",
            "Enter your email: yashanaseer@gmail.com\n",
            "Enter your password: 12345678\n",
            "Invalid email or password\n"
          ]
        }
      ]
    }
  ]
}