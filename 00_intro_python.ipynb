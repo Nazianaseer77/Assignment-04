{
  "cells": [
    {
      "cell_type": "markdown",
      "metadata": {
        "id": "view-in-github",
        "colab_type": "text"
      },
      "source": [
        "<a href=\"https://colab.research.google.com/github/Nazianaseer77/Assignment-04/blob/main/00_intro_python.ipynb\" target=\"_parent\"><img src=\"https://colab.research.google.com/assets/colab-badge.svg\" alt=\"Open In Colab\"/></a>"
      ]
    },
    {
      "cell_type": "code",
      "execution_count": 1,
      "metadata": {
        "colab": {
          "base_uri": "https://localhost:8080/"
        },
        "id": "9YF8mXtgNEtb",
        "outputId": "15eed692-c0a1-4801-83ba-59eb2c43c0f1"
      },
      "outputs": [
        {
          "output_type": "stream",
          "name": "stdout",
          "text": [
            "01_add_two_numbers\n",
            "Enter your first number.19\n",
            "Enter your second number.4\n",
            "The total sum of 19 and 4 is 23\n",
            "This application for add two numbers\n"
          ]
        }
      ],
      "source": [
        "print(\"01_add_two_numbers\")\n",
        "\n",
        "def add():\n",
        " print(\"This application for add two numbers\")\n",
        "first_number=int(input(\"Enter your first number.\"))\n",
        "second_number=int(input(\"Enter your second number.\"))\n",
        "Total = int(first_number + second_number)\n",
        "print(f'The total sum of {first_number} and {second_number} is {Total}')\n",
        "\n",
        "if __name__==\"__main__\":\n",
        "    add()"
      ]
    },
    {
      "cell_type": "code",
      "execution_count": null,
      "metadata": {
        "colab": {
          "base_uri": "https://localhost:8080/"
        },
        "id": "-e-k82XzTr5u",
        "outputId": "2d457f34-390a-4ee7-84ad-7d982ce4f308"
      },
      "outputs": [
        {
          "name": "stdout",
          "output_type": "stream",
          "text": [
            "02_agreement_bot\n",
            "what their favorite animal is?eagle\n",
            "My favorite animal is also eagle !\n"
          ]
        }
      ],
      "source": [
        "print(\"02_agreement_bot\")\n",
        "\n",
        "def bot():\n",
        "   animal = str(input(\"what their favorite animal is?\"))\n",
        "   print(f'My favorite animal is also {animal} !')\n",
        "\n",
        "if __name__==\"__main__\":\n",
        "    bot()"
      ]
    },
    {
      "cell_type": "code",
      "execution_count": 2,
      "metadata": {
        "colab": {
          "base_uri": "https://localhost:8080/"
        },
        "id": "Vl-XO5i9Wfml",
        "outputId": "8c10b4fe-3bc9-4a11-9b53-7bc84d08ad84"
      },
      "outputs": [
        {
          "output_type": "stream",
          "name": "stdout",
          "text": [
            "03_farhenheit_to_celsius\n",
            "This code for converting farhenheit to celsius\n",
            "Enter your farhenheit degree.76\n",
            "Temperature 76.0 F = 24.444444444444443 C\n"
          ]
        }
      ],
      "source": [
        "print(\"03_farhenheit_to_celsius\")\n",
        "\n",
        "def temp():\n",
        "  print(\"This code for converting farhenheit to celsius\")\n",
        "  farhenheit_degree = float(input(\"Enter your farhenheit degree.\"))\n",
        "  celsius_degree = (farhenheit_degree - 32) * 5.0/9.0\n",
        "  print(f'Temperature {farhenheit_degree} F = {celsius_degree} C')\n",
        "\n",
        "if __name__==\"__main__\":\n",
        "    temp()"
      ]
    },
    {
      "cell_type": "code",
      "execution_count": 3,
      "metadata": {
        "id": "xTSi8e-c4AnJ",
        "colab": {
          "base_uri": "https://localhost:8080/"
        },
        "outputId": "10927812-f7e5-48f5-9086-a742e01e605f"
      },
      "outputs": [
        {
          "output_type": "stream",
          "name": "stdout",
          "text": [
            "04_how_old_are_they\n",
            "Anthon is21\n",
            "Beth is27\n",
            "Chen is47\n",
            "Drew is68\n",
            "Ethon is47\n"
          ]
        }
      ],
      "source": [
        "print(\"04_how_old_are_they\")\n",
        "\n",
        "def add_ages():\n",
        "  anthon:int = 21\n",
        "  beth:int = anthon + 6\n",
        "  chen:int = beth + 20\n",
        "  drew:int = chen + anthon\n",
        "  ethon:int = chen\n",
        "\n",
        "  print(\"Anthon is\" + str(anthon))\n",
        "  print(\"Beth is\" + str(beth))\n",
        "  print(\"Chen is\" + str(chen))\n",
        "  print(\"Drew is\" + str(drew))\n",
        "  print(\"Ethon is\" + str(ethon))\n",
        "\n",
        "if __name__==\"__main__\":\n",
        "    add_ages()"
      ]
    },
    {
      "cell_type": "code",
      "execution_count": 4,
      "metadata": {
        "id": "9PFsWpna75-a",
        "colab": {
          "base_uri": "https://localhost:8080/"
        },
        "outputId": "94d23bbb-94e7-45cc-8643-dfb1b5fb2876"
      },
      "outputs": [
        {
          "output_type": "stream",
          "name": "stdout",
          "text": [
            "05_triangle_perimeter\n",
            "This code about perimetre of triangle.\n",
            "Enter your first side no of triangle.20\n",
            "Enter your second side no of triangle.30\n",
            "Enter your third side no of triangle.40\n",
            "The perimeter of the triangle is90.0\n"
          ]
        }
      ],
      "source": [
        "print(\"05_triangle_perimeter\")\n",
        "\n",
        "def triangle():\n",
        "  print(\"This code about perimetre of triangle.\")\n",
        "  side1:float = float(input(\"Enter your first side no of triangle.\"))\n",
        "  side2:float = float(input(\"Enter your second side no of triangle.\"))\n",
        "  side3:float = float(input(\"Enter your third side no of triangle.\"))\n",
        "  total:float = float(side1 + side2 + side3)\n",
        "  print(f'The perimeter of the triangle is{total}')\n",
        "\n",
        "if __name__==\"__main__\":\n",
        "    triangle()"
      ]
    },
    {
      "cell_type": "code",
      "execution_count": 5,
      "metadata": {
        "id": "OIBFh7yo8IU6",
        "colab": {
          "base_uri": "https://localhost:8080/"
        },
        "outputId": "a521e0be-f6cd-424d-c1d9-cf73593cc97f"
      },
      "outputs": [
        {
          "output_type": "stream",
          "name": "stdout",
          "text": [
            "05_squre_number\n",
            "This code is about sqaure of given number.\n",
            "Enter any number and i will give you a square value.5\n",
            "The square of 5 is 25\n"
          ]
        }
      ],
      "source": [
        "print(\"05_squre_number\")\n",
        "\n",
        "def square():\n",
        "  print(\"This code is about sqaure of given number.\")\n",
        "  num1:int = int(input(\"Enter any number and i will give you a square value.\"))\n",
        "  print(f'The square of {num1} is {num1 ** 2}')\n",
        "\n",
        "if __name__==\"__main__\":\n",
        "  square()"
      ]
    }
  ],
  "metadata": {
    "colab": {
      "provenance": [],
      "authorship_tag": "ABX9TyMJGM/JrY1ZYSe7GHfGuIjU",
      "include_colab_link": true
    },
    "kernelspec": {
      "display_name": "Python 3",
      "name": "python3"
    },
    "language_info": {
      "name": "python"
    }
  },
  "nbformat": 4,
  "nbformat_minor": 0
}